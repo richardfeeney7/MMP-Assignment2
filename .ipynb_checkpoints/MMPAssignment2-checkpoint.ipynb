{
 "cells": [
  {
   "cell_type": "markdown",
   "metadata": {},
   "source": [
    "## Sum"
   ]
  },
  {
   "cell_type": "code",
   "execution_count": 1,
   "metadata": {},
   "outputs": [],
   "source": [
    "array = [1,2,3,4,5,6,7,8,9] # Array that I want to find the sum of\n",
    "\n",
    "def _sum(array, n):\n",
    "    if len(array)==1:\n",
    "        return array[0]\n",
    "    else:\n",
    "        return array[0]+_sum(array[1:],n)\n",
    "n = len(array)\n",
    "answer = _sum(array,n)\n",
    "print(\"The sum of the array is = \",answer)"
   ]
  },
  {
   "cell_type": "markdown",
   "metadata": {},
   "source": [
    "## Product"
   ]
  },
  {
   "cell_type": "code",
   "execution_count": 2,
   "metadata": {},
   "outputs": [
    {
     "name": "stdout",
     "output_type": "stream",
     "text": [
      "The product of the array is =  45\n"
     ]
    }
   ],
   "source": [
    "def _product(array, n):\n",
    "    if len(array)==1:\n",
    "        return array[0]\n",
    "    else:\n",
    "        return array[0]*_product(array[1:],n)\n",
    "n = len(array)\n",
    "answer = _sum(array,n)\n",
    "print(\"The product of the array is = \",answer)"
   ]
  },
  {
   "cell_type": "markdown",
   "metadata": {},
   "source": [
    "## Odd numbers"
   ]
  },
  {
   "cell_type": "code",
   "execution_count": 3,
   "metadata": {},
   "outputs": [
    {
     "name": "stdout",
     "output_type": "stream",
     "text": [
      "The odd numbers in the array are =  [1, 3, 5, 7, 9]\n"
     ]
    }
   ],
   "source": [
    "def _odd(array, odd):\n",
    "    if len(array) == 0:\n",
    "        return\n",
    "    o = array.pop()\n",
    "    if o % 2 == 1:\n",
    "        odd.append(o)\n",
    "    _odd(array, odd)\n",
    "\n",
    "odd = [] # This array will be large to small so I need to sort \n",
    "_odd(array,odd)\n",
    "\n",
    "oddsort = sorted(odd) # Sort the array from Largest to Biggest\n",
    "\n",
    "\n",
    "print(\"The odd numbers in the array are = \",oddsort)"
   ]
  },
  {
   "cell_type": "markdown",
   "metadata": {},
   "source": [
    "## Remove even numbers"
   ]
  },
  {
   "cell_type": "code",
   "execution_count": 4,
   "metadata": {},
   "outputs": [
    {
     "name": "stdout",
     "output_type": "stream",
     "text": [
      "The odd numbers in the array are =  [2, 4, 6, 8]\n"
     ]
    }
   ],
   "source": [
    "array = [1,2,3,4,5,6,7,8,9]\n",
    "\n",
    "def _even(array, even):\n",
    "    if len(array) == 0:\n",
    "        return\n",
    "    e = array.pop()\n",
    "    if e % 2 != 1:\n",
    "        even.append(e)\n",
    "    _even(array, even)\n",
    "\n",
    "even = [] # This array will be large to small so I need to sort \n",
    "_even(array,even)\n",
    "\n",
    "evensort = sorted(even) # Sort the array from Largest to Biggest\n",
    "\n",
    "print(\"The odd numbers in the array are = \",evensort)"
   ]
  },
  {
   "cell_type": "markdown",
   "metadata": {},
   "source": [
    "## Replace Character With *"
   ]
  },
  {
   "cell_type": "code",
   "execution_count": 5,
   "metadata": {},
   "outputs": [
    {
     "name": "stdout",
     "output_type": "stream",
     "text": [
      "He**o Wor*d\n"
     ]
    }
   ],
   "source": [
    "# Store string in var\n",
    "string = \"Hello World\"\n",
    "string = list(string)\n",
    "\n",
    "def replaceChar(string, char):\n",
    "    # Base condition\n",
    "    if len(string) < 2 or char == len(string):\n",
    "        return string\n",
    "    replaceChar(string, char + 1)\n",
    "    # Calculation part amd place * where char == l\n",
    "    if(string[char] == 'l'): \n",
    "        string[char:char + 1] = ['*'] # Replacing with *\n",
    "        \n",
    "# Function that will replace l with *\n",
    "def replace(string):\n",
    "    replaceChar(string, 0)\n",
    "    \n",
    "# Function the dunction call\n",
    "replace(string)\n",
    "\n",
    "string = ''.join(string)\n",
    "print(string)  # Print the result\n"
   ]
  },
  {
   "cell_type": "markdown",
   "metadata": {},
   "source": [
    "## Find index in array"
   ]
  },
  {
   "cell_type": "code",
   "execution_count": 12,
   "metadata": {},
   "outputs": [
    {
     "name": "stdout",
     "output_type": "stream",
     "text": [
      "The array index is : 5\n",
      "\n",
      "\n",
      "This number is not found so index -1 will be diplayed: 8\n"
     ]
    }
   ],
   "source": [
    "array = [1, 2, 3, 4, 5, 6, 7, 11, 13]\n",
    "# Define Function\n",
    "def index(array, num): # Function get the num from the print and start\n",
    "    # If number passed to function is not found, print the last number\n",
    "    # in the array (-1)\n",
    "    if len(array) == 0:\n",
    "            return -1\n",
    "    elif array[0] == num:\n",
    "        return 0\n",
    "    else:\n",
    "        # Num will be until it find the number passed (7)\n",
    "        # Once found it will loop back and assign the index position\n",
    "        return 1 + index(array[1:], num)\n",
    "# Send number to function and print\n",
    "print(\"The array index is :\",index(array, 6))\n",
    "print(\"\\n\\nThis number is not found so index -1 will be diplayed which is =\",index(array, 17))"
   ]
  },
  {
   "cell_type": "markdown",
   "metadata": {},
   "source": [
    "## Sum of Digits (Whole Number)"
   ]
  },
  {
   "cell_type": "code",
   "execution_count": 7,
   "metadata": {},
   "outputs": [
    {
     "name": "stdout",
     "output_type": "stream",
     "text": [
      "The sum of the whole number is :  7\n"
     ]
    }
   ],
   "source": [
    "def sum_digits(number):\n",
    "    # Base Case\n",
    "    if number == 0:\n",
    "        return 0\n",
    "    else:\n",
    "        # Mod (%) by 10 gives you the digit to the right while // 10\n",
    "        # will remove the right digit. This will allow me to then add\n",
    "        # the digit on the left and right together\n",
    "        return (number % 10) + sum_digits(number // 10)\n",
    "       \n",
    "print(\"The sum of the whole number is : \", sum_digits(25))"
   ]
  },
  {
   "cell_type": "code",
   "execution_count": null,
   "metadata": {},
   "outputs": [],
   "source": []
  }
 ],
 "metadata": {
  "kernelspec": {
   "display_name": "Python 3",
   "language": "python",
   "name": "python3"
  },
  "language_info": {
   "codemirror_mode": {
    "name": "ipython",
    "version": 3
   },
   "file_extension": ".py",
   "mimetype": "text/x-python",
   "name": "python",
   "nbconvert_exporter": "python",
   "pygments_lexer": "ipython3",
   "version": "3.7.5"
  }
 },
 "nbformat": 4,
 "nbformat_minor": 2
}
