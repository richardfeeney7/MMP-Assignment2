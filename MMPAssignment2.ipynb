{
 "cells": [
  {
   "cell_type": "markdown",
   "metadata": {},
   "source": [
    "# MULTI-PARADIGM PROGRAMMING \n",
    "## Assignment 2\n",
    "## Creator : Richard Feeney \n",
    "## Student Number : G00376345"
   ]
  },
  {
   "cell_type": "markdown",
   "metadata": {},
   "source": [
    "***\n",
    "### Quesustion 1 :\n",
    "\n",
    "###### Sum of an array Given an array of numbers return it’s sum (all the numbers added together)."
   ]
  },
  {
   "cell_type": "code",
   "execution_count": 1,
   "metadata": {},
   "outputs": [
    {
     "name": "stdout",
     "output_type": "stream",
     "text": [
      "The sum of the array is =  45\n"
     ]
    }
   ],
   "source": [
    "array = [1,2,3,4,5,6,7,8,9] # Array that I want to find the sum of\n",
    "\n",
    "# Define finction\n",
    "# Function will check all the numbers and as it loops back it will sum them \n",
    "def _sum(array, n):\n",
    "    if len(array)==1:\n",
    "        return array[0]\n",
    "    else:\n",
    "        return array[0]+_sum(array[1:],n) # Adds up the array \n",
    "    \n",
    "# N will be = 9\n",
    "n = len(array)\n",
    "\n",
    "# Print sum\n",
    "print(\"The sum of the array is = \",_sum(array,n))"
   ]
  },
  {
   "cell_type": "markdown",
   "metadata": {},
   "source": [
    "### Question 2:\n",
    "\n",
    "###### Product of an array Given an array of numbers return it’s product (all the numbers multiplied together)."
   ]
  },
  {
   "cell_type": "code",
   "execution_count": 2,
   "metadata": {},
   "outputs": [
    {
     "name": "stdout",
     "output_type": "stream",
     "text": [
      "The product of the array is =  362880\n"
     ]
    }
   ],
   "source": [
    "# Used same array as Question 1. This is similat to Question one except that in the \n",
    "# else I have used * instead of +\n",
    "\n",
    "# Define the function\n",
    "def _product(array, n):\n",
    "    if len(array)==1:\n",
    "        return array[0]\n",
    "    else:\n",
    "        return array[0]*_product(array[1:],n)\n",
    "# n = 9\n",
    "n = len(array)\n",
    "\n",
    "# Send array and print reslt.\n",
    "print(\"The product of the array is = \",_product(array,n))"
   ]
  },
  {
   "cell_type": "markdown",
   "metadata": {},
   "source": [
    "### Question 3 :\n",
    "\n",
    "###### Remove all odd numbers Given an array of numbers return an array with all the odd numbers removed."
   ]
  },
  {
   "cell_type": "code",
   "execution_count": 3,
   "metadata": {},
   "outputs": [
    {
     "name": "stdout",
     "output_type": "stream",
     "text": [
      "The odd numbers in the array are =  [1, 3, 5, 7, 9]\n"
     ]
    }
   ],
   "source": [
    "# Using same array as Q1 and Q2. \n",
    "\n",
    "# Define function\n",
    "def _odd(array, odd):\n",
    "    if len(array) == 0: # when array gets to position 0 return \n",
    "        return \n",
    "    o = array.pop() #  pop() method removes the last element of an array, and returns that element.\n",
    "    if o % 2 == 1: # Check if number in o has a mod of 1 and if so append it to odd array\n",
    "        odd.append(o) \n",
    "    _odd(array, odd)\n",
    "\n",
    "odd = [] # This array will be large to small so I need to sort \n",
    "_odd(array,odd)\n",
    "\n",
    "oddsort = sorted(odd) # Sort the array from Largest to Biggest\n",
    "\n",
    "# Print result\n",
    "print(\"The odd numbers in the array are = \",oddsort)"
   ]
  },
  {
   "cell_type": "markdown",
   "metadata": {},
   "source": [
    "### Question 4 : \n",
    "\n",
    "###### Remove all even numbers Given an array of numbers return an array with all the even numbers removed."
   ]
  },
  {
   "cell_type": "code",
   "execution_count": 4,
   "metadata": {},
   "outputs": [
    {
     "name": "stdout",
     "output_type": "stream",
     "text": [
      "The odd numbers in the array are =  [2, 4, 6, 8]\n"
     ]
    }
   ],
   "source": [
    "array = [1,2,3,4,5,6,7,8,9] # Array that I will use\n",
    "\n",
    "# Similar to the odd function about except if the Mod is != 1 then it will be even\n",
    "def _even(array, even):\n",
    "    if len(array) == 0:\n",
    "        return\n",
    "    e = array.pop()\n",
    "    if e % 2 != 1:\n",
    "        even.append(e)\n",
    "    _even(array, even)\n",
    "\n",
    "even = [] # This array will be large to small so I need to sort \n",
    "_even(array,even)\n",
    "\n",
    "evensort = sorted(even) # Sort the array from Largest to Biggest\n",
    "\n",
    "# Print result\n",
    "print(\"The odd numbers in the array are = \",evensort)"
   ]
  },
  {
   "cell_type": "markdown",
   "metadata": {},
   "source": [
    "### Question 5:  \n",
    "\n",
    "###### Replace a given character with ’*’ Given a string, and a character to replace, return a string where each occurance of the character is replaced with ’*’."
   ]
  },
  {
   "cell_type": "code",
   "execution_count": 5,
   "metadata": {},
   "outputs": [
    {
     "name": "stdout",
     "output_type": "stream",
     "text": [
      "He**o Wor*d\n"
     ]
    }
   ],
   "source": [
    "# Store string in var\n",
    "string = \"Hello World\"\n",
    "string = list(string)\n",
    "\n",
    "def replaceChar(string, char):\n",
    "    # Base condition\n",
    "    if len(string) < 2 or char == len(string):\n",
    "        return string\n",
    "    replaceChar(string, char + 1)\n",
    "    # Calculation part amd place * where char == l\n",
    "    if(string[char] == 'l'): \n",
    "        string[char:char + 1] = ['*'] # Replacing with *\n",
    "        \n",
    "# Function that will replace l with *\n",
    "def replace(string):\n",
    "    replaceChar(string, 0)\n",
    "    \n",
    "# Function the dunction call\n",
    "replace(string)\n",
    "\n",
    "string = ''.join(string)\n",
    "print(string)  # Print the result\n"
   ]
  },
  {
   "cell_type": "markdown",
   "metadata": {},
   "source": [
    "### Question 6: \n",
    "\n",
    "###### Find index in array for item. Given an array, and an element to search for return the index of the element in the array or -1 if the element is not present in the array."
   ]
  },
  {
   "cell_type": "code",
   "execution_count": 6,
   "metadata": {},
   "outputs": [
    {
     "name": "stdout",
     "output_type": "stream",
     "text": [
      "The array index is : 5\n",
      "\n",
      "\n",
      "This number is not found so index -1 will be diplayed which is = 8\n"
     ]
    }
   ],
   "source": [
    "array = [1, 2, 3, 4, 5, 6, 7, 11, 13] # Array that will be used\n",
    "\n",
    "# Define Function\n",
    "def index(array, num): # Function get the num from the print and start\n",
    "    \n",
    "    # If number passed to function is not found, print the last number\n",
    "    # in the array (-1)\n",
    "    if len(array) == 0:\n",
    "            return -1\n",
    "    elif array[0] == num:\n",
    "        return 0\n",
    "    else:\n",
    "        # Num will be searched for until it finds the number I passed(6)\n",
    "        # Once found it will loop back and assign the index position as output\n",
    "        return 1 + index(array[1:], num)\n",
    "    \n",
    "# Send number to function and print\n",
    "print(\"The array index is :\",index(array, 6))\n",
    "print(\"\\n\\nThis number is not found so index -1 will be diplayed which is =\",index(array, 17))"
   ]
  },
  {
   "cell_type": "markdown",
   "metadata": {},
   "source": [
    "### Question 7\n",
    "\n",
    "###### Sum of Digits Given a whole, number such as 23, return the sum of the digits in the number i.e. 2 + 3 = 5. For this would be useful to convert the number to a string then break it apart into digits."
   ]
  },
  {
   "cell_type": "code",
   "execution_count": 7,
   "metadata": {},
   "outputs": [
    {
     "name": "stdout",
     "output_type": "stream",
     "text": [
      "The sum of the whole number is :  7\n"
     ]
    }
   ],
   "source": [
    "# Define function\n",
    "def sum_digits(number):\n",
    "    # Base Case\n",
    "    if number == 0:\n",
    "        return 0\n",
    "    else:\n",
    "        # Mod (%) by 10 gives you the digit to the right while // 10\n",
    "        # will remove the right digit. This will allow me to then add\n",
    "        # the digit on the left and right together\n",
    "        return (number % 10) + sum_digits(number // 10)\n",
    "    \n",
    "# Print Result \n",
    "print(\"The sum of the whole number is : \", sum_digits(25))"
   ]
  },
  {
   "cell_type": "markdown",
   "metadata": {},
   "source": [
    "### Question 8\n",
    "\n",
    "###### Print an array Given an array of integers prints all the elements one per line. This is a little bit different as there is no need for a ’return’ statement just to print and recurse."
   ]
  },
  {
   "cell_type": "code",
   "execution_count": 11,
   "metadata": {},
   "outputs": [
    {
     "name": "stdout",
     "output_type": "stream",
     "text": [
      "1\n",
      "2\n",
      "3\n",
      "4\n",
      "5\n",
      "6\n",
      "Finished\n"
     ]
    }
   ],
   "source": [
    "def arrayLineByLine(arr): # Function\n",
    "    \n",
    "    if len(arr) == 0: # Len of arr is 0, print array finished\n",
    "        return \"Finished\"\n",
    "    else:\n",
    "        print (arr[0]) # Print each element of the array\n",
    "        return arrayLineByLine(arr[1:]) # Return to the function and check for next number\n",
    "    \n",
    "print (arrayLineByLine([1,2,3,4,5,6])) # Pass array to function and print result"
   ]
  },
  {
   "cell_type": "markdown",
   "metadata": {},
   "source": [
    "### Question 9 \n",
    "\n",
    "###### Find the minimum element in an array of integers. You can carry some extra information through method arguments such as minimum value."
   ]
  },
  {
   "cell_type": "code",
   "execution_count": 9,
   "metadata": {},
   "outputs": [
    {
     "name": "stdout",
     "output_type": "stream",
     "text": [
      "The minimum number in this array is : 1\n"
     ]
    }
   ],
   "source": [
    "# Function to get min number\n",
    "def minimum(arr):\n",
    "# This if else will check the numbers until the last which will be 22\n",
    "# Once at the end it will loop back and compare the return value against\n",
    "# the other numbers in the array. If a number is smaller than the current\n",
    "# return value it will be replaced with the new small value.\n",
    "    if len(arr) == 1:\n",
    "        return arr[0]\n",
    "   \n",
    "    else:\n",
    "        return min(arr[0], minimum(arr[1:]))\n",
    "# Array Values\n",
    "arr = [100, 3, 28, 1, 18, 22]\n",
    "# Sent array to funvtion and print Values\n",
    "print(\"The minimum number in this array is :\",minimum(arr))"
   ]
  },
  {
   "cell_type": "markdown",
   "metadata": {},
   "source": [
    "### Question 10 \n",
    "\n",
    "###### Verify the parentheses Given a string, return true if it is a nesting of zero or more pairs of parenthesis, like “(())” or “((()))”.\n"
   ]
  },
  {
   "cell_type": "code",
   "execution_count": 10,
   "metadata": {},
   "outputs": [
    {
     "name": "stdout",
     "output_type": "stream",
     "text": [
      "The result of '{[(]{}}' is =  False\n",
      "\n",
      "\n",
      "The result of '{[()]{}}'is =  True\n"
     ]
    }
   ],
   "source": [
    "# Define functiom\n",
    "def matchPar(string):\n",
    "    # Set count that will be used with retirn false\n",
    "    count = 0\n",
    "   \n",
    "    # This loop will check each char of the string one by one while adding\n",
    "    # and removing from count. { will be ignored.\n",
    "    # For this to be sucessful/ true count should be 0 and 1 is a fail\n",
    "   \n",
    "    for i in string:\n",
    "        if i == \"(\":\n",
    "            count += 1\n",
    "        elif i == \")\":\n",
    "            count -= 1\n",
    "        if count < 0:\n",
    "            return False\n",
    "    # When count is 0 it will be a true result\n",
    "    return count == 0\n",
    "   \n",
    "# Send string to function and print if true or false\n",
    "print(\"The result of '{[(]{}}' is = \",matchPar(\"{[(]{}}\")) # This will display a false result\n",
    "print(\"\\n\\nThe result of '{[()]{}}'is = \", matchPar(\"{[()]{}}\")) # This will display a True result"
   ]
  }
 ],
 "metadata": {
  "kernelspec": {
   "display_name": "Python 3",
   "language": "python",
   "name": "python3"
  },
  "language_info": {
   "codemirror_mode": {
    "name": "ipython",
    "version": 3
   },
   "file_extension": ".py",
   "mimetype": "text/x-python",
   "name": "python",
   "nbconvert_exporter": "python",
   "pygments_lexer": "ipython3",
   "version": "3.7.5"
  }
 },
 "nbformat": 4,
 "nbformat_minor": 2
}
