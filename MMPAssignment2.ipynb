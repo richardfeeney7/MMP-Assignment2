{
 "cells": [
  {
   "cell_type": "markdown",
   "metadata": {},
   "source": [
    "## Sum"
   ]
  },
  {
   "cell_type": "code",
   "execution_count": 5,
   "metadata": {},
   "outputs": [
    {
     "name": "stdout",
     "output_type": "stream",
     "text": [
      "The sum of the array is =  45\n"
     ]
    }
   ],
   "source": [
    "\n",
    "array = [1,2,3,4,5,6,7,8,9] # Array that I want to find the sum of\n",
    "\n",
    "def _sum(array, n):\n",
    "    if len(array)==1:\n",
    "        return array[0]\n",
    "    else:\n",
    "        return array[0]+_sum(array[1:],n)\n",
    "n = len(array)\n",
    "answer = _sum(array,n)\n",
    "print(\"The sum of the array is = \",answer)"
   ]
  },
  {
   "cell_type": "markdown",
   "metadata": {},
   "source": [
    "## Product"
   ]
  },
  {
   "cell_type": "code",
   "execution_count": 6,
   "metadata": {},
   "outputs": [
    {
     "name": "stdout",
     "output_type": "stream",
     "text": [
      "The product of the array is =  362880\n"
     ]
    }
   ],
   "source": [
    "def _product(array, n):\n",
    "    if len(array)==1:\n",
    "        return array[0]\n",
    "    else:\n",
    "        return array[0]*_product(array[1:],n)\n",
    "n = len(array)\n",
    "answer = _sum(array,n)\n",
    "print(\"The product of the array is = \",answer)"
   ]
  },
  {
   "cell_type": "code",
   "execution_count": null,
   "metadata": {},
   "outputs": [],
   "source": []
  }
 ],
 "metadata": {
  "kernelspec": {
   "display_name": "Python 3",
   "language": "python",
   "name": "python3"
  },
  "language_info": {
   "codemirror_mode": {
    "name": "ipython",
    "version": 3
   },
   "file_extension": ".py",
   "mimetype": "text/x-python",
   "name": "python",
   "nbconvert_exporter": "python",
   "pygments_lexer": "ipython3",
   "version": "3.7.5"
  }
 },
 "nbformat": 4,
 "nbformat_minor": 2
}
